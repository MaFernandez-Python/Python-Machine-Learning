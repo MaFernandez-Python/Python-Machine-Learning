{
  "nbformat": 4,
  "nbformat_minor": 0,
  "metadata": {
    "kernelspec": {
      "display_name": "Python 3",
      "language": "python",
      "name": "python3"
    },
    "language_info": {
      "codemirror_mode": {
        "name": "ipython",
        "version": 3
      },
      "file_extension": ".py",
      "mimetype": "text/x-python",
      "name": "python",
      "nbconvert_exporter": "python",
      "pygments_lexer": "ipython3",
      "version": "3.8.3"
    },
    "nbTranslate": {
      "displayLangs": [
        "*"
      ],
      "hotkey": "alt-t",
      "langInMainMenu": true,
      "sourceLang": "en",
      "targetLang": "fr",
      "useGoogleTranslate": true
    },
    "colab": {
      "provenance": [],
      "include_colab_link": true
    }
  },
  "cells": [
    {
      "cell_type": "markdown",
      "metadata": {
        "id": "view-in-github",
        "colab_type": "text"
      },
      "source": [
        "<a href=\"https://colab.research.google.com/github/MaFernandez-Python/Python-Machine-Learning/blob/master/151_1_1_Perceptron.ipynb\" target=\"_parent\"><img src=\"https://colab.research.google.com/assets/colab-badge.svg\" alt=\"Open In Colab\"/></a>"
      ]
    },
    {
      "cell_type": "markdown",
      "metadata": {
        "id": "ZtYbBwLwU2Dy"
      },
      "source": [
        "<img src=\"https://datascientest.fr/train/assets/logo_datascientest.png\" style=\"height:150px\">\n",
        "\n",
        "\n",
        "<hr style=\"border-width:2px;border-color:#75DFC1\">\n",
        "<center><h1>Introduction au Deep Learning avec Keras</h1></center>\n",
        "<center><h2>L'algorithme du Perceptron</h2></center>\n",
        "<hr style=\"border-width:2px;border-color:#75DFC1\">\n",
        "\n",
        "\n",
        "> Dans cet exercice, nous allons introduire le principe de fonctionnement de l'algorithme du perceptron. Pour se faire, nous allons entraîner un modèle basé sur le principe du perceptron simple à partir de la base de données *Moon* de la bibliothèque *scikit-learn*.\n",
        "\n",
        "> Comme évoqué précédemment, le **choix** de la fonction d'activation dépend de **l'espace de sortie souhaité** du modèle Perceptron:\n",
        ">\n",
        "> * La fonction $\\mathbf{sigmoid}$ prend des valeurs de $(-\\infty, \\infty) $ à $ [0,1]$, ce qui en fait un choix idéal pour afficher une valeur de probabilité pour la classification. Dans ce cas, le modèle Perceptron équivaut à la **Régression logistique**.\n",
        ">\n",
        ">Dans l'exemple ci-dessous, nous allons implémenter ce modèle.\n",
        ">\n",
        "\n",
        "\n",
        "* **(a)** Exécuter la cellule suivante pour importer les packages nécéssaires :"
      ]
    },
    {
      "cell_type": "code",
      "metadata": {
        "deletable": false,
        "editable": false,
        "id": "LilXIKXrU2Dz"
      },
      "source": [
        "import pandas as pd\n",
        "import numpy as np\n",
        "from sklearn.datasets import make_moons\n",
        "import matplotlib.pyplot as plt"
      ],
      "execution_count": null,
      "outputs": []
    },
    {
      "cell_type": "markdown",
      "metadata": {
        "deletable": false,
        "editable": false,
        "run_control": {
          "frozen": true
        },
        "id": "sn971gcrU2D0"
      },
      "source": [
        "* **(b)** Exécuter la cellule suivante pour stocker dans X (**features**) et y (**target**) un échantillon du dataset *Moon* à l'aide du module make_moons."
      ]
    },
    {
      "cell_type": "code",
      "metadata": {
        "deletable": false,
        "editable": false,
        "id": "nKtd7bT8U2D0"
      },
      "source": [
        "X,y = make_moons(n_samples = 300, noise = 0.05) #300 observations choisies pour ne pas trop alourdir l'entraînement"
      ],
      "execution_count": null,
      "outputs": []
    },
    {
      "cell_type": "markdown",
      "metadata": {
        "id": "iUN7KrWyU2D0"
      },
      "source": [
        "* **(c)** Afficher les observations en colorant chacune d'entre elles selon la classe à laquelle elle appartient."
      ]
    },
    {
      "cell_type": "code",
      "metadata": {
        "id": "brRHIG-AU2D0"
      },
      "source": [
        "## Insérez votre code ici"
      ],
      "execution_count": null,
      "outputs": []
    },
    {
      "cell_type": "code",
      "metadata": {
        "deletable": false,
        "editable": false,
        "id": "ay67SZPZU2D1",
        "colab": {
          "base_uri": "https://localhost:8080/",
          "height": 293
        },
        "outputId": "577c487a-b11a-418d-84d7-448d3b26af17"
      },
      "source": [
        "fig, ax = plt.subplots()\n",
        "\n",
        "X_0_x = X[y == 0][:, 0]\n",
        "X_0_y = X[y == 0][:, 1]\n",
        "\n",
        "X_1_x = X[y == 1][:, 0]\n",
        "X_1_y = X[y == 1][:, 1]\n",
        "          \n",
        "ax.scatter(X_0_x, X_0_y, color = \"#68E2BF\", label = \"Class 0\")\n",
        "ax.scatter(X_1_x, X_1_y, color = \"#163090\", label = \"Class 1\")\n",
        "\n",
        "ax.legend()\n",
        "fig.set_size_inches(8, 4.5)\n",
        "\n"
      ],
      "execution_count": null,
      "outputs": [
        {
          "output_type": "display_data",
          "data": {
            "image/png": "[encoded data removed]",
            "text/plain": [
              "<Figure size 576x324 with 1 Axes>"
            ]
          },
          "metadata": {
            "needs_background": "light"
          }
        }
      ]
    },
    {
      "cell_type": "markdown",
      "metadata": {
        "id": "DaTOFdZSU2D1"
      },
      "source": [
        "* **(d)** Séparer les données en un jeu d'entraiement **80%** et de test **20%**. Utiliser l'argument **`random_state=42`**"
      ]
    },
    {
      "cell_type": "code",
      "metadata": {
        "id": "4EWrjIJ5U2D1"
      },
      "source": [
        "## Insérez votre code ici"
      ],
      "execution_count": null,
      "outputs": []
    },
    {
      "cell_type": "code",
      "metadata": {
        "deletable": false,
        "editable": false,
        "id": "Q_IEiDIKU2D1"
      },
      "source": [
        "from sklearn.model_selection import train_test_split\n",
        "X_train,X_test, y_train,y_test = train_test_split(X,y,test_size=0.2,random_state=42) "
      ],
      "execution_count": null,
      "outputs": []
    },
    {
      "cell_type": "markdown",
      "metadata": {
        "deletable": false,
        "editable": false,
        "run_control": {
          "frozen": true
        },
        "id": "Tj9qRuDMU2D1"
      },
      "source": [
        ">Nous allons maintenant définir le 'neurone' ou perceptron par lequel passer nos données.\n",
        ">\n",
        "* Exécuter la cellule suivante afin d'importer les packages nécéssaires à l'initialisation du perceptron."
      ]
    },
    {
      "cell_type": "code",
      "metadata": {
        "deletable": false,
        "editable": false,
        "id": "QuxpaIpkU2D2"
      },
      "source": [
        "from tensorflow.keras.layers import Input, Dense #Pour instancier une couche Dense et une d'Input\n",
        "from tensorflow.keras.models import Model\n",
        "from tensorflow.keras import regularizers"
      ],
      "execution_count": null,
      "outputs": []
    },
    {
      "cell_type": "markdown",
      "metadata": {
        "id": "dYLwL8-AU2D2"
      },
      "source": [
        ">Dans un premier temps, nous allons définir l'**`Input`** qui prendra en compte la dimension des variables d'entrée, c'est à dire la dimension de nos variables explicatives. Les objets **Input** et **Output**, de classe *Keras Tensor*, permettent de construire des modèles à partir seulement des entrées. \n",
        ">\n",
        "* **(e)** Instancier cet **`Input`** dans inputs.\n",
        "* **(f)** Créer une couche **`Dense`** nommée **`dense1`** prenant en argument **`units=1`**, qui correspond au nombre de perceptrons de notre couche, une fonction d'activation **`sigmoid`** ainsi que l'argument **`kernel_regularizer=regularizers.l2(0.)`**"
      ]
    },
    {
      "cell_type": "code",
      "metadata": {
        "id": "TS8dghYnU2D2"
      },
      "source": [
        "## Insérez votre code ici"
      ],
      "execution_count": null,
      "outputs": []
    },
    {
      "cell_type": "code",
      "metadata": {
        "deletable": false,
        "editable": false,
        "id": "5-h7cxKuU2D2"
      },
      "source": [
        "inputs = Input(shape = 2, name = \"Input\")\n",
        "\n",
        "dense1 = Dense(units = 1, activation = \"sigmoid\",kernel_regularizer=regularizers.l2(0.), name = \"Dense_1\")"
      ],
      "execution_count": null,
      "outputs": []
    },
    {
      "cell_type": "markdown",
      "metadata": {
        "id": "4zQiC-vWU2D2"
      },
      "source": [
        ">Nous allons à présent définir l'**`output`** de notre modèle. Comme ici, il n'est constitué que d'un seul perceptron, l'output correspond à notre input ) laquelle on a appliqué la couche **`dense1`**.\n",
        ">\n",
        "* **(g)** Dans **`outputs`**, appliquer la couche **`dense1`** sur L'**`Input`** précédent.\n",
        "* **(h)** Instancier un **Model** prenant en argument l'**`Input`** et l'**`output`**"
      ]
    },
    {
      "cell_type": "code",
      "metadata": {
        "id": "nifVFWlRU2D3"
      },
      "source": [
        "## Insérez votre code ici"
      ],
      "execution_count": null,
      "outputs": []
    },
    {
      "cell_type": "code",
      "metadata": {
        "deletable": false,
        "editable": false,
        "id": "dbys-zIKU2D3"
      },
      "source": [
        "outputs=dense1(inputs)\n",
        "\n",
        "model = Model(inputs = inputs, outputs = outputs)"
      ],
      "execution_count": null,
      "outputs": []
    },
    {
      "cell_type": "markdown",
      "metadata": {
        "id": "yZpMdirLU2D3"
      },
      "source": [
        "* **(i)** Compiler le modèle précedemment créé grâce à la méthode **`.compile`**. Utiliser comme fonction de perte : **\"binary_crossentropy\"**, comme optimiseur : **\"adam\"** et pour métrique : **[\"accuracy\"]**.\n",
        "\n",
        "<div class=\"alert alert-info\">\n",
        "<i class=\"fa fa-info-circle\"></i> &emsp; \n",
        "    <b>Rappel</b> : Une fonction de perte (le terme perte a été utilisé pour la première fois par Wald, 1939) permet de mesurer  <b>un écart</b> entre les valeurs observées des données et les valeurs calculées à l'aide de la fonction d'ajustement. C'est la fonction que l'on cherche à <b>minimiser pendant l'entraînement d'un modèle</b>.     \n",
        "    <br> Dans le cadre de problèmes de classification binaire, on privilégie en général la fonction de perte binary crossentropy. On aura plus tendance à regarder l'erreur absolue ou quadratique moyenne pour des problèmes de régression.\n",
        "</div>\n",
        "\n"
      ]
    },
    {
      "cell_type": "code",
      "metadata": {
        "id": "h3T0sQfCU2D4"
      },
      "source": [],
      "execution_count": null,
      "outputs": []
    },
    {
      "cell_type": "code",
      "metadata": {
        "id": "nDXm8okHU2D4"
      },
      "source": [
        "## Insérez votre code ici"
      ],
      "execution_count": null,
      "outputs": []
    },
    {
      "cell_type": "code",
      "metadata": {
        "deletable": false,
        "editable": false,
        "id": "3C4IG3ldU2D4"
      },
      "source": [
        "model.compile(loss = \"binary_crossentropy\",\n",
        "              optimizer = \"adam\",\n",
        "              metrics = [\"accuracy\"])"
      ],
      "execution_count": null,
      "outputs": []
    },
    {
      "cell_type": "markdown",
      "metadata": {
        "id": "dQBskc6uU2D4"
      },
      "source": [
        "* **(j)** Entrainer votre modèle sur le jeu de données d'entrainement avec comme argument : epochs=500, batch_size=32, validation_split=0.1"
      ]
    },
    {
      "cell_type": "code",
      "metadata": {
        "id": "EV2d5EV6U2D4"
      },
      "source": [
        "## Insérez votre code ici"
      ],
      "execution_count": null,
      "outputs": []
    },
    {
      "cell_type": "code",
      "metadata": {
        "deletable": false,
        "editable": false,
        "id": "Lt15vsPnU2D5",
        "colab": {
          "base_uri": "https://localhost:8080/"
        },
        "outputId": "5e46e8c9-312a-4698-9264-aa4fe7748e86"
      },
      "source": [
        "model.fit(X_train,y_train,epochs=500,batch_size=2, validation_split=0.2)\n",
        "\n"
      ],
      "execution_count": null,
      "outputs": [
        {
          "output_type": "stream",
          "name": "stdout",
          "text": [
            "Epoch 1/500\n",
            "96/96 [==============================] - 2s 6ms/step - loss: 0.6602 - accuracy: 0.6302 - val_loss: 0.6404 - val_accuracy: 0.6042\n",
            "Epoch 2/500\n",
            "96/96 [==============================] - 0s 2ms/step - loss: 0.6293 - accuracy: 0.6875 - val_loss: 0.6134 - val_accuracy: 0.6875\n",
            "Epoch 3/500\n",
            "96/96 [==============================] - 0s 2ms/step - loss: 0.6006 - accuracy: 0.7240 - val_loss: 0.5896 - val_accuracy: 0.7292\n",
            "Epoch 4/500\n",
            "96/96 [==============================] - 0s 2ms/step - loss: 0.5742 - accuracy: 0.7448 - val_loss: 0.5670 - val_accuracy: 0.7708\n",
            "Epoch 5/500\n",
            "96/96 [==============================] - 0s 2ms/step - loss: 0.5504 - accuracy: 0.7865 - val_loss: 0.5454 - val_accuracy: 0.8125\n",
            "Epoch 6/500\n",
            "96/96 [==============================] - 0s 2ms/step - loss: 0.5285 - accuracy: 0.8125 - val_loss: 0.5272 - val_accuracy: 0.8333\n",
            "Epoch 7/500\n",
            "96/96 [==============================] - 0s 2ms/step - loss: 0.5091 - accuracy: 0.8125 - val_loss: 0.5098 - val_accuracy: 0.8333\n",
            "Epoch 8/500\n",
            "96/96 [==============================] - 0s 2ms/step - loss: 0.4911 - accuracy: 0.8385 - val_loss: 0.4946 - val_accuracy: 0.8542\n",
            "Epoch 9/500\n",
            "96/96 [==============================] - 0s 2ms/step - loss: 0.4748 - accuracy: 0.8438 - val_loss: 0.4803 - val_accuracy: 0.8542\n",
            "Epoch 10/500\n",
            "96/96 [==============================] - 0s 2ms/step - loss: 0.4600 - accuracy: 0.8646 - val_loss: 0.4671 - val_accuracy: 0.8542\n",
            "Epoch 11/500\n",
            "96/96 [==============================] - 0s 2ms/step - loss: 0.4466 - accuracy: 0.8698 - val_loss: 0.4549 - val_accuracy: 0.8750\n",
            "Epoch 12/500\n",
            "96/96 [==============================] - 0s 2ms/step - loss: 0.4342 - accuracy: 0.8802 - val_loss: 0.4437 - val_accuracy: 0.8542\n",
            "Epoch 13/500\n",
            "96/96 [==============================] - 0s 2ms/step - loss: 0.4230 - accuracy: 0.8854 - val_loss: 0.4338 - val_accuracy: 0.8542\n",
            "Epoch 14/500\n",
            "96/96 [==============================] - 0s 2ms/step - loss: 0.4128 - accuracy: 0.8802 - val_loss: 0.4245 - val_accuracy: 0.9167\n",
            "Epoch 15/500\n",
            "96/96 [==============================] - 0s 2ms/step - loss: 0.4034 - accuracy: 0.8750 - val_loss: 0.4160 - val_accuracy: 0.8958\n",
            "Epoch 16/500\n",
            "96/96 [==============================] - 0s 2ms/step - loss: 0.3948 - accuracy: 0.8750 - val_loss: 0.4080 - val_accuracy: 0.8958\n",
            "Epoch 17/500\n",
            "96/96 [==============================] - 0s 2ms/step - loss: 0.3870 - accuracy: 0.8750 - val_loss: 0.4006 - val_accuracy: 0.8750\n",
            "Epoch 18/500\n",
            "96/96 [==============================] - 0s 2ms/step - loss: 0.3797 - accuracy: 0.8750 - val_loss: 0.3942 - val_accuracy: 0.8750\n",
            "Epoch 19/500\n",
            "96/96 [==============================] - 0s 2ms/step - loss: 0.3732 - accuracy: 0.8698 - val_loss: 0.3876 - val_accuracy: 0.8750\n",
            "Epoch 20/500\n",
            "96/96 [==============================] - 0s 2ms/step - loss: 0.3670 - accuracy: 0.8750 - val_loss: 0.3820 - val_accuracy: 0.8750\n",
            "Epoch 21/500\n",
            "96/96 [==============================] - 0s 2ms/step - loss: 0.3613 - accuracy: 0.8750 - val_loss: 0.3766 - val_accuracy: 0.8750\n",
            "Epoch 22/500\n",
            "96/96 [==============================] - 0s 2ms/step - loss: 0.3561 - accuracy: 0.8750 - val_loss: 0.3714 - val_accuracy: 0.8750\n",
            "Epoch 23/500\n",
            "96/96 [==============================] - 0s 2ms/step - loss: 0.3513 - accuracy: 0.8698 - val_loss: 0.3668 - val_accuracy: 0.8750\n",
            "Epoch 24/500\n",
            "96/96 [==============================] - 0s 2ms/step - loss: 0.3467 - accuracy: 0.8646 - val_loss: 0.3622 - val_accuracy: 0.8750\n",
            "Epoch 25/500\n",
            "96/96 [==============================] - 0s 2ms/step - loss: 0.3425 - accuracy: 0.8646 - val_loss: 0.3582 - val_accuracy: 0.8750\n",
            "Epoch 26/500\n",
            "96/96 [==============================] - 0s 2ms/step - loss: 0.3387 - accuracy: 0.8646 - val_loss: 0.3545 - val_accuracy: 0.8750\n",
            "Epoch 27/500\n",
            "96/96 [==============================] - 0s 2ms/step - loss: 0.3350 - accuracy: 0.8646 - val_loss: 0.3507 - val_accuracy: 0.8750\n",
            "Epoch 28/500\n",
            "96/96 [==============================] - 0s 2ms/step - loss: 0.3318 - accuracy: 0.8646 - val_loss: 0.3475 - val_accuracy: 0.8750\n",
            "Epoch 29/500\n",
            "96/96 [==============================] - 0s 2ms/step - loss: 0.3285 - accuracy: 0.8594 - val_loss: 0.3440 - val_accuracy: 0.8750\n",
            "Epoch 30/500\n",
            "96/96 [==============================] - 0s 2ms/step - loss: 0.3257 - accuracy: 0.8594 - val_loss: 0.3413 - val_accuracy: 0.8750\n",
            "Epoch 31/500\n",
            "96/96 [==============================] - 0s 2ms/step - loss: 0.3229 - accuracy: 0.8594 - val_loss: 0.3385 - val_accuracy: 0.8750\n",
            "Epoch 32/500\n",
            "96/96 [==============================] - 0s 2ms/step - loss: 0.3202 - accuracy: 0.8542 - val_loss: 0.3358 - val_accuracy: 0.8750\n",
            "Epoch 33/500\n",
            "96/96 [==============================] - 0s 2ms/step - loss: 0.3178 - accuracy: 0.8542 - val_loss: 0.3333 - val_accuracy: 0.8750\n",
            "Epoch 34/500\n",
            "96/96 [==============================] - 0s 2ms/step - loss: 0.3154 - accuracy: 0.8542 - val_loss: 0.3309 - val_accuracy: 0.8750\n",
            "Epoch 35/500\n",
            "96/96 [==============================] - 0s 2ms/step - loss: 0.3134 - accuracy: 0.8542 - val_loss: 0.3286 - val_accuracy: 0.8750\n",
            "Epoch 36/500\n",
            "96/96 [==============================] - 0s 2ms/step - loss: 0.3112 - accuracy: 0.8542 - val_loss: 0.3264 - val_accuracy: 0.8750\n",
            "Epoch 37/500\n",
            "96/96 [==============================] - 0s 2ms/step - loss: 0.3094 - accuracy: 0.8542 - val_loss: 0.3245 - val_accuracy: 0.8750\n",
            "Epoch 38/500\n",
            "96/96 [==============================] - 0s 2ms/step - loss: 0.3076 - accuracy: 0.8542 - val_loss: 0.3226 - val_accuracy: 0.8750\n",
            "Epoch 39/500\n",
            "96/96 [==============================] - 0s 2ms/step - loss: 0.3059 - accuracy: 0.8542 - val_loss: 0.3206 - val_accuracy: 0.8750\n",
            "Epoch 40/500\n",
            "96/96 [==============================] - 0s 2ms/step - loss: 0.3043 - accuracy: 0.8542 - val_loss: 0.3190 - val_accuracy: 0.8750\n",
            "Epoch 41/500\n",
            "96/96 [==============================] - 0s 2ms/step - loss: 0.3027 - accuracy: 0.8542 - val_loss: 0.3174 - val_accuracy: 0.8750\n",
            "Epoch 42/500\n",
            "96/96 [==============================] - 0s 2ms/step - loss: 0.3013 - accuracy: 0.8542 - val_loss: 0.3158 - val_accuracy: 0.8750\n",
            "Epoch 43/500\n",
            "96/96 [==============================] - 0s 2ms/step - loss: 0.3000 - accuracy: 0.8542 - val_loss: 0.3143 - val_accuracy: 0.8750\n",
            "Epoch 44/500\n",
            "96/96 [==============================] - 0s 2ms/step - loss: 0.2987 - accuracy: 0.8542 - val_loss: 0.3130 - val_accuracy: 0.8750\n",
            "Epoch 45/500\n",
            "96/96 [==============================] - 0s 2ms/step - loss: 0.2975 - accuracy: 0.8542 - val_loss: 0.3114 - val_accuracy: 0.8750\n",
            "Epoch 46/500\n",
            "96/96 [==============================] - 0s 2ms/step - loss: 0.2963 - accuracy: 0.8542 - val_loss: 0.3103 - val_accuracy: 0.8750\n",
            "Epoch 47/500\n",
            "96/96 [==============================] - 0s 2ms/step - loss: 0.2952 - accuracy: 0.8594 - val_loss: 0.3091 - val_accuracy: 0.8750\n",
            "Epoch 48/500\n",
            "96/96 [==============================] - 0s 2ms/step - loss: 0.2944 - accuracy: 0.8542 - val_loss: 0.3079 - val_accuracy: 0.8750\n",
            "Epoch 49/500\n",
            "96/96 [==============================] - 0s 2ms/step - loss: 0.2932 - accuracy: 0.8594 - val_loss: 0.3068 - val_accuracy: 0.8750\n",
            "Epoch 50/500\n",
            "96/96 [==============================] - 0s 2ms/step - loss: 0.2923 - accuracy: 0.8594 - val_loss: 0.3055 - val_accuracy: 0.8750\n",
            "Epoch 51/500\n",
            "96/96 [==============================] - 0s 2ms/step - loss: 0.2913 - accuracy: 0.8594 - val_loss: 0.3047 - val_accuracy: 0.8750\n",
            "Epoch 52/500\n",
            "96/96 [==============================] - 0s 2ms/step - loss: 0.2906 - accuracy: 0.8594 - val_loss: 0.3037 - val_accuracy: 0.8750\n",
            "Epoch 53/500\n",
            "96/96 [==============================] - 0s 2ms/step - loss: 0.2897 - accuracy: 0.8594 - val_loss: 0.3028 - val_accuracy: 0.8750\n",
            "Epoch 54/500\n",
            "96/96 [==============================] - 0s 2ms/step - loss: 0.2889 - accuracy: 0.8594 - val_loss: 0.3018 - val_accuracy: 0.8750\n",
            "Epoch 55/500\n",
            "96/96 [==============================] - 0s 2ms/step - loss: 0.2881 - accuracy: 0.8594 - val_loss: 0.3008 - val_accuracy: 0.8750\n",
            "Epoch 56/500\n",
            "96/96 [==============================] - 0s 2ms/step - loss: 0.2874 - accuracy: 0.8594 - val_loss: 0.3001 - val_accuracy: 0.8750\n",
            "Epoch 57/500\n",
            "96/96 [==============================] - 0s 2ms/step - loss: 0.2868 - accuracy: 0.8646 - val_loss: 0.2993 - val_accuracy: 0.8750\n",
            "Epoch 58/500\n",
            "96/96 [==============================] - 0s 2ms/step - loss: 0.2862 - accuracy: 0.8594 - val_loss: 0.2986 - val_accuracy: 0.8750\n",
            "Epoch 59/500\n",
            "96/96 [==============================] - 0s 2ms/step - loss: 0.2855 - accuracy: 0.8646 - val_loss: 0.2977 - val_accuracy: 0.8750\n",
            "Epoch 60/500\n",
            "96/96 [==============================] - 0s 2ms/step - loss: 0.2848 - accuracy: 0.8646 - val_loss: 0.2972 - val_accuracy: 0.8750\n",
            "Epoch 61/500\n",
            "96/96 [==============================] - 0s 2ms/step - loss: 0.2843 - accuracy: 0.8646 - val_loss: 0.2963 - val_accuracy: 0.8750\n",
            "Epoch 62/500\n",
            "96/96 [==============================] - 0s 2ms/step - loss: 0.2837 - accuracy: 0.8646 - val_loss: 0.2956 - val_accuracy: 0.8750\n",
            "Epoch 63/500\n",
            "96/96 [==============================] - 0s 2ms/step - loss: 0.2831 - accuracy: 0.8646 - val_loss: 0.2951 - val_accuracy: 0.8750\n",
            "Epoch 64/500\n",
            "96/96 [==============================] - 0s 2ms/step - loss: 0.2827 - accuracy: 0.8646 - val_loss: 0.2946 - val_accuracy: 0.8750\n",
            "Epoch 65/500\n",
            "96/96 [==============================] - 0s 2ms/step - loss: 0.2821 - accuracy: 0.8646 - val_loss: 0.2939 - val_accuracy: 0.8750\n",
            "Epoch 66/500\n",
            "96/96 [==============================] - 0s 2ms/step - loss: 0.2817 - accuracy: 0.8646 - val_loss: 0.2935 - val_accuracy: 0.8750\n",
            "Epoch 67/500\n",
            "96/96 [==============================] - 0s 2ms/step - loss: 0.2813 - accuracy: 0.8646 - val_loss: 0.2928 - val_accuracy: 0.8750\n",
            "Epoch 68/500\n",
            "96/96 [==============================] - 0s 2ms/step - loss: 0.2807 - accuracy: 0.8646 - val_loss: 0.2923 - val_accuracy: 0.8750\n",
            "Epoch 69/500\n",
            "96/96 [==============================] - 0s 2ms/step - loss: 0.2803 - accuracy: 0.8646 - val_loss: 0.2919 - val_accuracy: 0.8750\n",
            "Epoch 70/500\n",
            "96/96 [==============================] - 0s 2ms/step - loss: 0.2798 - accuracy: 0.8646 - val_loss: 0.2913 - val_accuracy: 0.8750\n",
            "Epoch 71/500\n",
            "96/96 [==============================] - 0s 2ms/step - loss: 0.2795 - accuracy: 0.8646 - val_loss: 0.2908 - val_accuracy: 0.8750\n",
            "Epoch 72/500\n",
            "96/96 [==============================] - 0s 2ms/step - loss: 0.2791 - accuracy: 0.8646 - val_loss: 0.2905 - val_accuracy: 0.8750\n",
            "Epoch 73/500\n",
            "96/96 [==============================] - 0s 2ms/step - loss: 0.2787 - accuracy: 0.8646 - val_loss: 0.2899 - val_accuracy: 0.8750\n",
            "Epoch 74/500\n",
            "96/96 [==============================] - 0s 2ms/step - loss: 0.2785 - accuracy: 0.8646 - val_loss: 0.2893 - val_accuracy: 0.8750\n",
            "Epoch 75/500\n",
            "96/96 [==============================] - 0s 2ms/step - loss: 0.2781 - accuracy: 0.8646 - val_loss: 0.2892 - val_accuracy: 0.8750\n",
            "Epoch 76/500\n",
            "96/96 [==============================] - 0s 2ms/step - loss: 0.2779 - accuracy: 0.8646 - val_loss: 0.2888 - val_accuracy: 0.8750\n",
            "Epoch 77/500\n",
            "96/96 [==============================] - 0s 2ms/step - loss: 0.2773 - accuracy: 0.8646 - val_loss: 0.2884 - val_accuracy: 0.8750\n",
            "Epoch 78/500\n",
            "96/96 [==============================] - 0s 2ms/step - loss: 0.2771 - accuracy: 0.8646 - val_loss: 0.2881 - val_accuracy: 0.8750\n",
            "Epoch 79/500\n",
            "96/96 [==============================] - 0s 2ms/step - loss: 0.2768 - accuracy: 0.8646 - val_loss: 0.2875 - val_accuracy: 0.8750\n",
            "Epoch 80/500\n",
            "96/96 [==============================] - 0s 2ms/step - loss: 0.2765 - accuracy: 0.8646 - val_loss: 0.2873 - val_accuracy: 0.8750\n",
            "Epoch 81/500\n",
            "96/96 [==============================] - 0s 2ms/step - loss: 0.2761 - accuracy: 0.8646 - val_loss: 0.2869 - val_accuracy: 0.8750\n",
            "Epoch 82/500\n",
            "96/96 [==============================] - 0s 2ms/step - loss: 0.2759 - accuracy: 0.8646 - val_loss: 0.2866 - val_accuracy: 0.8750\n",
            "Epoch 83/500\n",
            "96/96 [==============================] - 0s 2ms/step - loss: 0.2757 - accuracy: 0.8646 - val_loss: 0.2864 - val_accuracy: 0.8750\n",
            "Epoch 84/500\n",
            "96/96 [==============================] - 0s 2ms/step - loss: 0.2754 - accuracy: 0.8646 - val_loss: 0.2861 - val_accuracy: 0.8750\n",
            "Epoch 85/500\n",
            "96/96 [==============================] - 0s 2ms/step - loss: 0.2750 - accuracy: 0.8646 - val_loss: 0.2857 - val_accuracy: 0.8750\n",
            "Epoch 86/500\n",
            "96/96 [==============================] - 0s 2ms/step - loss: 0.2749 - accuracy: 0.8646 - val_loss: 0.2854 - val_accuracy: 0.8750\n",
            "Epoch 87/500\n",
            "96/96 [==============================] - 0s 2ms/step - loss: 0.2746 - accuracy: 0.8646 - val_loss: 0.2853 - val_accuracy: 0.8750\n",
            "Epoch 88/500\n",
            "96/96 [==============================] - 0s 2ms/step - loss: 0.2744 - accuracy: 0.8646 - val_loss: 0.2849 - val_accuracy: 0.8750\n",
            "Epoch 89/500\n",
            "96/96 [==============================] - 0s 2ms/step - loss: 0.2741 - accuracy: 0.8698 - val_loss: 0.2847 - val_accuracy: 0.8750\n",
            "Epoch 90/500\n",
            "96/96 [==============================] - 0s 2ms/step - loss: 0.2740 - accuracy: 0.8698 - val_loss: 0.2845 - val_accuracy: 0.8750\n",
            "Epoch 91/500\n",
            "96/96 [==============================] - 0s 2ms/step - loss: 0.2737 - accuracy: 0.8698 - val_loss: 0.2842 - val_accuracy: 0.8750\n",
            "Epoch 92/500\n",
            "96/96 [==============================] - 0s 2ms/step - loss: 0.2735 - accuracy: 0.8698 - val_loss: 0.2840 - val_accuracy: 0.8750\n",
            "Epoch 93/500\n",
            "96/96 [==============================] - 0s 2ms/step - loss: 0.2732 - accuracy: 0.8698 - val_loss: 0.2837 - val_accuracy: 0.8750\n",
            "Epoch 94/500\n",
            "96/96 [==============================] - 0s 2ms/step - loss: 0.2731 - accuracy: 0.8698 - val_loss: 0.2836 - val_accuracy: 0.8750\n",
            "Epoch 95/500\n",
            "96/96 [==============================] - 0s 2ms/step - loss: 0.2730 - accuracy: 0.8698 - val_loss: 0.2835 - val_accuracy: 0.8750\n",
            "Epoch 96/500\n",
            "96/96 [==============================] - 0s 2ms/step - loss: 0.2727 - accuracy: 0.8698 - val_loss: 0.2833 - val_accuracy: 0.8750\n",
            "Epoch 97/500\n",
            "96/96 [==============================] - 0s 2ms/step - loss: 0.2726 - accuracy: 0.8698 - val_loss: 0.2831 - val_accuracy: 0.8750\n",
            "Epoch 98/500\n",
            "96/96 [==============================] - 0s 2ms/step - loss: 0.2724 - accuracy: 0.8698 - val_loss: 0.2829 - val_accuracy: 0.8750\n",
            "Epoch 99/500\n",
            "96/96 [==============================] - 0s 2ms/step - loss: 0.2722 - accuracy: 0.8698 - val_loss: 0.2827 - val_accuracy: 0.8750\n",
            "Epoch 100/500\n",
            "96/96 [==============================] - 0s 2ms/step - loss: 0.2720 - accuracy: 0.8698 - val_loss: 0.2825 - val_accuracy: 0.8750\n",
            "Epoch 101/500\n",
            "96/96 [==============================] - 0s 2ms/step - loss: 0.2718 - accuracy: 0.8698 - val_loss: 0.2823 - val_accuracy: 0.8750\n",
            "Epoch 102/500\n",
            "96/96 [==============================] - 0s 2ms/step - loss: 0.2717 - accuracy: 0.8698 - val_loss: 0.2821 - val_accuracy: 0.8750\n",
            "Epoch 103/500\n",
            "96/96 [==============================] - 0s 2ms/step - loss: 0.2716 - accuracy: 0.8698 - val_loss: 0.2819 - val_accuracy: 0.8750\n",
            "Epoch 104/500\n",
            "96/96 [==============================] - 0s 2ms/step - loss: 0.2714 - accuracy: 0.8698 - val_loss: 0.2817 - val_accuracy: 0.8750\n",
            "Epoch 105/500\n",
            "96/96 [==============================] - 0s 2ms/step - loss: 0.2712 - accuracy: 0.8698 - val_loss: 0.2816 - val_accuracy: 0.8750\n",
            "Epoch 106/500\n",
            "96/96 [==============================] - 0s 2ms/step - loss: 0.2710 - accuracy: 0.8698 - val_loss: 0.2815 - val_accuracy: 0.8750\n",
            "Epoch 107/500\n",
            "96/96 [==============================] - 0s 2ms/step - loss: 0.2709 - accuracy: 0.8698 - val_loss: 0.2814 - val_accuracy: 0.8750\n",
            "Epoch 108/500\n",
            "96/96 [==============================] - 0s 2ms/step - loss: 0.2707 - accuracy: 0.8698 - val_loss: 0.2813 - val_accuracy: 0.8750\n",
            "Epoch 109/500\n",
            "96/96 [==============================] - 0s 2ms/step - loss: 0.2706 - accuracy: 0.8698 - val_loss: 0.2811 - val_accuracy: 0.8750\n",
            "Epoch 110/500\n",
            "96/96 [==============================] - 0s 3ms/step - loss: 0.2706 - accuracy: 0.8698 - val_loss: 0.2810 - val_accuracy: 0.8750\n",
            "Epoch 111/500\n",
            "96/96 [==============================] - 0s 2ms/step - loss: 0.2704 - accuracy: 0.8698 - val_loss: 0.2808 - val_accuracy: 0.8750\n",
            "Epoch 112/500\n",
            "96/96 [==============================] - 0s 2ms/step - loss: 0.2703 - accuracy: 0.8750 - val_loss: 0.2806 - val_accuracy: 0.8750\n",
            "Epoch 113/500\n",
            "96/96 [==============================] - 0s 2ms/step - loss: 0.2701 - accuracy: 0.8750 - val_loss: 0.2805 - val_accuracy: 0.8750\n",
            "Epoch 114/500\n",
            "96/96 [==============================] - 0s 2ms/step - loss: 0.2701 - accuracy: 0.8750 - val_loss: 0.2804 - val_accuracy: 0.8750\n",
            "Epoch 115/500\n",
            "96/96 [==============================] - 0s 2ms/step - loss: 0.2699 - accuracy: 0.8750 - val_loss: 0.2803 - val_accuracy: 0.8750\n",
            "Epoch 116/500\n",
            "96/96 [==============================] - 0s 2ms/step - loss: 0.2698 - accuracy: 0.8698 - val_loss: 0.2802 - val_accuracy: 0.8750\n",
            "Epoch 117/500\n",
            "96/96 [==============================] - 0s 2ms/step - loss: 0.2696 - accuracy: 0.8750 - val_loss: 0.2800 - val_accuracy: 0.8750\n",
            "Epoch 118/500\n",
            "96/96 [==============================] - 0s 2ms/step - loss: 0.2695 - accuracy: 0.8750 - val_loss: 0.2801 - val_accuracy: 0.8750\n",
            "Epoch 119/500\n",
            "96/96 [==============================] - 0s 2ms/step - loss: 0.2697 - accuracy: 0.8750 - val_loss: 0.2798 - val_accuracy: 0.8750\n",
            "Epoch 120/500\n",
            "96/96 [==============================] - 0s 2ms/step - loss: 0.2694 - accuracy: 0.8750 - val_loss: 0.2799 - val_accuracy: 0.8750\n",
            "Epoch 121/500\n",
            "96/96 [==============================] - 0s 2ms/step - loss: 0.2692 - accuracy: 0.8750 - val_loss: 0.2798 - val_accuracy: 0.8750\n",
            "Epoch 122/500\n",
            "96/96 [==============================] - 0s 2ms/step - loss: 0.2692 - accuracy: 0.8750 - val_loss: 0.2796 - val_accuracy: 0.8750\n",
            "Epoch 123/500\n",
            "96/96 [==============================] - 0s 2ms/step - loss: 0.2690 - accuracy: 0.8750 - val_loss: 0.2796 - val_accuracy: 0.8958\n",
            "Epoch 124/500\n",
            "96/96 [==============================] - 0s 2ms/step - loss: 0.2691 - accuracy: 0.8750 - val_loss: 0.2794 - val_accuracy: 0.8958\n",
            "Epoch 125/500\n",
            "96/96 [==============================] - 0s 2ms/step - loss: 0.2689 - accuracy: 0.8750 - val_loss: 0.2794 - val_accuracy: 0.8958\n",
            "Epoch 126/500\n",
            "96/96 [==============================] - 0s 2ms/step - loss: 0.2689 - accuracy: 0.8750 - val_loss: 0.2792 - val_accuracy: 0.8958\n",
            "Epoch 127/500\n",
            "96/96 [==============================] - 0s 2ms/step - loss: 0.2687 - accuracy: 0.8750 - val_loss: 0.2793 - val_accuracy: 0.8958\n",
            "Epoch 128/500\n",
            "96/96 [==============================] - 0s 2ms/step - loss: 0.2686 - accuracy: 0.8750 - val_loss: 0.2791 - val_accuracy: 0.8958\n",
            "Epoch 129/500\n",
            "96/96 [==============================] - 0s 2ms/step - loss: 0.2685 - accuracy: 0.8750 - val_loss: 0.2790 - val_accuracy: 0.8958\n",
            "Epoch 130/500\n",
            "96/96 [==============================] - 0s 2ms/step - loss: 0.2684 - accuracy: 0.8750 - val_loss: 0.2790 - val_accuracy: 0.8958\n",
            "Epoch 131/500\n",
            "96/96 [==============================] - 0s 2ms/step - loss: 0.2684 - accuracy: 0.8750 - val_loss: 0.2789 - val_accuracy: 0.8958\n",
            "Epoch 132/500\n",
            "96/96 [==============================] - 0s 2ms/step - loss: 0.2682 - accuracy: 0.8750 - val_loss: 0.2788 - val_accuracy: 0.8958\n",
            "Epoch 133/500\n",
            "96/96 [==============================] - 0s 2ms/step - loss: 0.2681 - accuracy: 0.8750 - val_loss: 0.2787 - val_accuracy: 0.8958\n",
            "Epoch 134/500\n",
            "96/96 [==============================] - 0s 2ms/step - loss: 0.2681 - accuracy: 0.8750 - val_loss: 0.2787 - val_accuracy: 0.8958\n",
            "Epoch 135/500\n",
            "96/96 [==============================] - 0s 2ms/step - loss: 0.2680 - accuracy: 0.8750 - val_loss: 0.2785 - val_accuracy: 0.8958\n",
            "Epoch 136/500\n",
            "96/96 [==============================] - 0s 2ms/step - loss: 0.2679 - accuracy: 0.8750 - val_loss: 0.2786 - val_accuracy: 0.8958\n",
            "Epoch 137/500\n",
            "96/96 [==============================] - 0s 2ms/step - loss: 0.2680 - accuracy: 0.8750 - val_loss: 0.2786 - val_accuracy: 0.8958\n",
            "Epoch 138/500\n",
            "96/96 [==============================] - 0s 2ms/step - loss: 0.2678 - accuracy: 0.8750 - val_loss: 0.2786 - val_accuracy: 0.8958\n",
            "Epoch 139/500\n",
            "96/96 [==============================] - 0s 2ms/step - loss: 0.2677 - accuracy: 0.8750 - val_loss: 0.2783 - val_accuracy: 0.8958\n",
            "Epoch 140/500\n",
            "96/96 [==============================] - 0s 2ms/step - loss: 0.2676 - accuracy: 0.8750 - val_loss: 0.2784 - val_accuracy: 0.8958\n",
            "Epoch 141/500\n",
            "96/96 [==============================] - 0s 2ms/step - loss: 0.2675 - accuracy: 0.8750 - val_loss: 0.2783 - val_accuracy: 0.8958\n",
            "Epoch 142/500\n",
            "96/96 [==============================] - 0s 2ms/step - loss: 0.2675 - accuracy: 0.8750 - val_loss: 0.2782 - val_accuracy: 0.8958\n",
            "Epoch 143/500\n",
            "96/96 [==============================] - 0s 2ms/step - loss: 0.2675 - accuracy: 0.8750 - val_loss: 0.2781 - val_accuracy: 0.8958\n",
            "Epoch 144/500\n",
            "96/96 [==============================] - 0s 2ms/step - loss: 0.2674 - accuracy: 0.8750 - val_loss: 0.2781 - val_accuracy: 0.8958\n",
            "Epoch 145/500\n",
            "96/96 [==============================] - 0s 2ms/step - loss: 0.2673 - accuracy: 0.8750 - val_loss: 0.2781 - val_accuracy: 0.8958\n",
            "Epoch 146/500\n",
            "96/96 [==============================] - 0s 2ms/step - loss: 0.2672 - accuracy: 0.8750 - val_loss: 0.2780 - val_accuracy: 0.8958\n",
            "Epoch 147/500\n",
            "96/96 [==============================] - 0s 2ms/step - loss: 0.2672 - accuracy: 0.8750 - val_loss: 0.2781 - val_accuracy: 0.8958\n",
            "Epoch 148/500\n",
            "96/96 [==============================] - 0s 2ms/step - loss: 0.2670 - accuracy: 0.8750 - val_loss: 0.2779 - val_accuracy: 0.8958\n",
            "Epoch 149/500\n",
            "96/96 [==============================] - 0s 2ms/step - loss: 0.2670 - accuracy: 0.8750 - val_loss: 0.2779 - val_accuracy: 0.8958\n",
            "Epoch 150/500\n",
            "96/96 [==============================] - 0s 2ms/step - loss: 0.2669 - accuracy: 0.8750 - val_loss: 0.2779 - val_accuracy: 0.8958\n",
            "Epoch 151/500\n",
            "96/96 [==============================] - 0s 2ms/step - loss: 0.2669 - accuracy: 0.8750 - val_loss: 0.2779 - val_accuracy: 0.8958\n",
            "Epoch 152/500\n",
            "96/96 [==============================] - 0s 2ms/step - loss: 0.2668 - accuracy: 0.8750 - val_loss: 0.2779 - val_accuracy: 0.8958\n",
            "Epoch 153/500\n",
            "96/96 [==============================] - 0s 2ms/step - loss: 0.2669 - accuracy: 0.8750 - val_loss: 0.2778 - val_accuracy: 0.8958\n",
            "Epoch 154/500\n",
            "96/96 [==============================] - 0s 2ms/step - loss: 0.2667 - accuracy: 0.8750 - val_loss: 0.2778 - val_accuracy: 0.8958\n",
            "Epoch 155/500\n",
            "96/96 [==============================] - 0s 2ms/step - loss: 0.2667 - accuracy: 0.8750 - val_loss: 0.2777 - val_accuracy: 0.8958\n",
            "Epoch 156/500\n",
            "96/96 [==============================] - 0s 2ms/step - loss: 0.2666 - accuracy: 0.8750 - val_loss: 0.2778 - val_accuracy: 0.8958\n",
            "Epoch 157/500\n",
            "96/96 [==============================] - 0s 2ms/step - loss: 0.2666 - accuracy: 0.8750 - val_loss: 0.2777 - val_accuracy: 0.8958\n",
            "Epoch 158/500\n",
            "96/96 [==============================] - 0s 2ms/step - loss: 0.2665 - accuracy: 0.8750 - val_loss: 0.2776 - val_accuracy: 0.8958\n",
            "Epoch 159/500\n",
            "96/96 [==============================] - 0s 2ms/step - loss: 0.2665 - accuracy: 0.8750 - val_loss: 0.2775 - val_accuracy: 0.8958\n",
            "Epoch 160/500\n",
            "96/96 [==============================] - 0s 2ms/step - loss: 0.2666 - accuracy: 0.8750 - val_loss: 0.2776 - val_accuracy: 0.8958\n",
            "Epoch 161/500\n",
            "96/96 [==============================] - 0s 2ms/step - loss: 0.2664 - accuracy: 0.8750 - val_loss: 0.2775 - val_accuracy: 0.8958\n",
            "Epoch 162/500\n",
            "96/96 [==============================] - 0s 2ms/step - loss: 0.2664 - accuracy: 0.8750 - val_loss: 0.2775 - val_accuracy: 0.8958\n",
            "Epoch 163/500\n",
            "96/96 [==============================] - 0s 2ms/step - loss: 0.2663 - accuracy: 0.8750 - val_loss: 0.2775 - val_accuracy: 0.8958\n",
            "Epoch 164/500\n",
            "96/96 [==============================] - 0s 2ms/step - loss: 0.2663 - accuracy: 0.8750 - val_loss: 0.2775 - val_accuracy: 0.8958\n",
            "Epoch 165/500\n",
            "96/96 [==============================] - 0s 2ms/step - loss: 0.2662 - accuracy: 0.8750 - val_loss: 0.2775 - val_accuracy: 0.8958\n",
            "Epoch 166/500\n",
            "96/96 [==============================] - 0s 2ms/step - loss: 0.2662 - accuracy: 0.8750 - val_loss: 0.2773 - val_accuracy: 0.8958\n",
            "Epoch 167/500\n",
            "96/96 [==============================] - 0s 2ms/step - loss: 0.2661 - accuracy: 0.8750 - val_loss: 0.2773 - val_accuracy: 0.8958\n",
            "Epoch 168/500\n",
            "96/96 [==============================] - 0s 2ms/step - loss: 0.2663 - accuracy: 0.8750 - val_loss: 0.2775 - val_accuracy: 0.8958\n",
            "Epoch 169/500\n",
            "96/96 [==============================] - 0s 2ms/step - loss: 0.2661 - accuracy: 0.8750 - val_loss: 0.2774 - val_accuracy: 0.8958\n",
            "Epoch 170/500\n",
            "96/96 [==============================] - 0s 2ms/step - loss: 0.2660 - accuracy: 0.8750 - val_loss: 0.2772 - val_accuracy: 0.8958\n",
            "Epoch 171/500\n",
            "96/96 [==============================] - 0s 2ms/step - loss: 0.2660 - accuracy: 0.8750 - val_loss: 0.2771 - val_accuracy: 0.8958\n",
            "Epoch 172/500\n",
            "96/96 [==============================] - 0s 2ms/step - loss: 0.2661 - accuracy: 0.8750 - val_loss: 0.2772 - val_accuracy: 0.8958\n",
            "Epoch 173/500\n",
            "96/96 [==============================] - 0s 2ms/step - loss: 0.2659 - accuracy: 0.8750 - val_loss: 0.2772 - val_accuracy: 0.8958\n",
            "Epoch 174/500\n",
            "96/96 [==============================] - 0s 2ms/step - loss: 0.2659 - accuracy: 0.8750 - val_loss: 0.2772 - val_accuracy: 0.8958\n",
            "Epoch 175/500\n",
            "96/96 [==============================] - 0s 2ms/step - loss: 0.2658 - accuracy: 0.8750 - val_loss: 0.2772 - val_accuracy: 0.8958\n",
            "Epoch 176/500\n",
            "96/96 [==============================] - 0s 2ms/step - loss: 0.2658 - accuracy: 0.8750 - val_loss: 0.2771 - val_accuracy: 0.8958\n",
            "Epoch 177/500\n",
            "96/96 [==============================] - 0s 2ms/step - loss: 0.2657 - accuracy: 0.8750 - val_loss: 0.2770 - val_accuracy: 0.8958\n",
            "Epoch 178/500\n",
            "96/96 [==============================] - 0s 2ms/step - loss: 0.2658 - accuracy: 0.8750 - val_loss: 0.2770 - val_accuracy: 0.9167\n",
            "Epoch 179/500\n",
            "96/96 [==============================] - 0s 2ms/step - loss: 0.2657 - accuracy: 0.8750 - val_loss: 0.2772 - val_accuracy: 0.8958\n",
            "Epoch 180/500\n",
            "96/96 [==============================] - 0s 2ms/step - loss: 0.2656 - accuracy: 0.8750 - val_loss: 0.2771 - val_accuracy: 0.8958\n",
            "Epoch 181/500\n",
            "96/96 [==============================] - 0s 2ms/step - loss: 0.2656 - accuracy: 0.8750 - val_loss: 0.2772 - val_accuracy: 0.8958\n",
            "Epoch 182/500\n",
            "96/96 [==============================] - 0s 2ms/step - loss: 0.2656 - accuracy: 0.8750 - val_loss: 0.2771 - val_accuracy: 0.8958\n",
            "Epoch 183/500\n",
            "96/96 [==============================] - 0s 2ms/step - loss: 0.2655 - accuracy: 0.8750 - val_loss: 0.2770 - val_accuracy: 0.8958\n",
            "Epoch 184/500\n",
            "96/96 [==============================] - 0s 2ms/step - loss: 0.2655 - accuracy: 0.8750 - val_loss: 0.2771 - val_accuracy: 0.9167\n",
            "Epoch 185/500\n",
            "96/96 [==============================] - 0s 2ms/step - loss: 0.2655 - accuracy: 0.8750 - val_loss: 0.2770 - val_accuracy: 0.8958\n",
            "Epoch 186/500\n",
            "96/96 [==============================] - 0s 2ms/step - loss: 0.2656 - accuracy: 0.8750 - val_loss: 0.2770 - val_accuracy: 0.8958\n",
            "Epoch 187/500\n",
            "96/96 [==============================] - 0s 2ms/step - loss: 0.2654 - accuracy: 0.8750 - val_loss: 0.2770 - val_accuracy: 0.9167\n",
            "Epoch 188/500\n",
            "96/96 [==============================] - 0s 2ms/step - loss: 0.2654 - accuracy: 0.8750 - val_loss: 0.2769 - val_accuracy: 0.9167\n",
            "Epoch 189/500\n",
            "96/96 [==============================] - 0s 2ms/step - loss: 0.2655 - accuracy: 0.8750 - val_loss: 0.2768 - val_accuracy: 0.9167\n",
            "Epoch 190/500\n",
            "96/96 [==============================] - 0s 2ms/step - loss: 0.2654 - accuracy: 0.8750 - val_loss: 0.2770 - val_accuracy: 0.8958\n",
            "Epoch 191/500\n",
            "96/96 [==============================] - 0s 2ms/step - loss: 0.2654 - accuracy: 0.8750 - val_loss: 0.2769 - val_accuracy: 0.8958\n",
            "Epoch 192/500\n",
            "96/96 [==============================] - 0s 2ms/step - loss: 0.2654 - accuracy: 0.8750 - val_loss: 0.2769 - val_accuracy: 0.9167\n",
            "Epoch 193/500\n",
            "96/96 [==============================] - 0s 2ms/step - loss: 0.2653 - accuracy: 0.8750 - val_loss: 0.2769 - val_accuracy: 0.9167\n",
            "Epoch 194/500\n",
            "96/96 [==============================] - 0s 2ms/step - loss: 0.2653 - accuracy: 0.8750 - val_loss: 0.2770 - val_accuracy: 0.8958\n",
            "Epoch 195/500\n",
            "96/96 [==============================] - 0s 2ms/step - loss: 0.2652 - accuracy: 0.8750 - val_loss: 0.2770 - val_accuracy: 0.8958\n",
            "Epoch 196/500\n",
            "96/96 [==============================] - 0s 2ms/step - loss: 0.2651 - accuracy: 0.8750 - val_loss: 0.2769 - val_accuracy: 0.9167\n",
            "Epoch 197/500\n",
            "96/96 [==============================] - 0s 2ms/step - loss: 0.2651 - accuracy: 0.8750 - val_loss: 0.2768 - val_accuracy: 0.9167\n",
            "Epoch 198/500\n",
            "96/96 [==============================] - 0s 2ms/step - loss: 0.2652 - accuracy: 0.8750 - val_loss: 0.2769 - val_accuracy: 0.9167\n",
            "Epoch 199/500\n",
            "96/96 [==============================] - 0s 2ms/step - loss: 0.2652 - accuracy: 0.8750 - val_loss: 0.2769 - val_accuracy: 0.9167\n",
            "Epoch 200/500\n",
            "96/96 [==============================] - 0s 2ms/step - loss: 0.2651 - accuracy: 0.8750 - val_loss: 0.2768 - val_accuracy: 0.9167\n",
            "Epoch 201/500\n",
            "96/96 [==============================] - 0s 2ms/step - loss: 0.2651 - accuracy: 0.8750 - val_loss: 0.2769 - val_accuracy: 0.9167\n",
            "Epoch 202/500\n",
            "96/96 [==============================] - 0s 2ms/step - loss: 0.2651 - accuracy: 0.8750 - val_loss: 0.2769 - val_accuracy: 0.9167\n",
            "Epoch 203/500\n",
            "96/96 [==============================] - 0s 2ms/step - loss: 0.2650 - accuracy: 0.8750 - val_loss: 0.2768 - val_accuracy: 0.9167\n",
            "Epoch 204/500\n",
            "96/96 [==============================] - 0s 2ms/step - loss: 0.2650 - accuracy: 0.8750 - val_loss: 0.2768 - val_accuracy: 0.9167\n",
            "Epoch 205/500\n",
            "96/96 [==============================] - 0s 2ms/step - loss: 0.2650 - accuracy: 0.8750 - val_loss: 0.2768 - val_accuracy: 0.9167\n",
            "Epoch 206/500\n",
            "96/96 [==============================] - 0s 2ms/step - loss: 0.2652 - accuracy: 0.8750 - val_loss: 0.2769 - val_accuracy: 0.8958\n",
            "Epoch 207/500\n",
            "96/96 [==============================] - 0s 2ms/step - loss: 0.2650 - accuracy: 0.8750 - val_loss: 0.2768 - val_accuracy: 0.9167\n",
            "Epoch 208/500\n",
            "96/96 [==============================] - 0s 2ms/step - loss: 0.2649 - accuracy: 0.8750 - val_loss: 0.2768 - val_accuracy: 0.9167\n",
            "Epoch 209/500\n",
            "96/96 [==============================] - 0s 3ms/step - loss: 0.2651 - accuracy: 0.8750 - val_loss: 0.2769 - val_accuracy: 0.9167\n",
            "Epoch 210/500\n",
            "96/96 [==============================] - 0s 2ms/step - loss: 0.2649 - accuracy: 0.8750 - val_loss: 0.2769 - val_accuracy: 0.9167\n",
            "Epoch 211/500\n",
            "96/96 [==============================] - 0s 2ms/step - loss: 0.2651 - accuracy: 0.8750 - val_loss: 0.2768 - val_accuracy: 0.9167\n",
            "Epoch 212/500\n",
            "96/96 [==============================] - 0s 2ms/step - loss: 0.2649 - accuracy: 0.8750 - val_loss: 0.2769 - val_accuracy: 0.9167\n",
            "Epoch 213/500\n",
            "75/96 [======================>.......] - ETA: 0s - loss: 0.2402 - accuracy: 0.8933"
          ]
        }
      ]
    },
    {
      "cell_type": "markdown",
      "metadata": {
        "id": "fgmAIMmBU2D5"
      },
      "source": [
        "* **(k)** Calculer les prédictions faites par le modèle et les stocker dans **`test_pred`**.\n",
        "> Nous disposons de  y_test et de test_pred. Cependant avant de pouvoir évaluer notre modèle, il va falloir à partir des predcitions, qui sont des probabilité d'appartenance à une classe, retrouver la classe prédite.\n",
        "\n",
        "* **(l)** Grâce à la méthode **where** du module **numpy**. A **test_pred**, associer les classes et les prédictions faites pour chaque observation de l'échantillon test.\n"
      ]
    },
    {
      "cell_type": "code",
      "metadata": {
        "id": "-trBJ_NoU2D5"
      },
      "source": [
        "## Insérez votre code ici"
      ],
      "execution_count": null,
      "outputs": []
    },
    {
      "cell_type": "code",
      "metadata": {
        "deletable": false,
        "editable": false,
        "id": "DZ1iCo-MU2D5"
      },
      "source": [
        "test_pred = model.predict(X_test)\n",
        "classes_pred = np.where(test_pred>=0.5, 1,0)"
      ],
      "execution_count": null,
      "outputs": []
    },
    {
      "cell_type": "markdown",
      "metadata": {
        "id": "roiGDITlU2D5"
      },
      "source": [
        "* **(m)** Afficher le rapport de classification du modèle ainsi que la matrice de confusion."
      ]
    },
    {
      "cell_type": "code",
      "metadata": {
        "id": "_246vTRxU2D6"
      },
      "source": [
        "## Insérez votre code ici"
      ],
      "execution_count": null,
      "outputs": []
    },
    {
      "cell_type": "code",
      "metadata": {
        "deletable": false,
        "editable": false,
        "id": "7xnAJHnBU2D6"
      },
      "source": [
        "from sklearn.metrics import classification_report,confusion_matrix\n",
        "print(classification_report(y_test, classes_pred))\n",
        "print(confusion_matrix(y_test,classes_pred))\n",
        "\n"
      ],
      "execution_count": null,
      "outputs": []
    },
    {
      "cell_type": "markdown",
      "metadata": {
        "id": "wFw6M8VTU2D6"
      },
      "source": [
        ">Le score pour ce modèle semble plutôt correct mais est-il plus ou moins performant qu'une régréssion logistique classique ? \n",
        ">\n",
        ">Pour vérifier cela, nous allons implémenter un modèle de régréssion logistique sur nos données.\n",
        ">\n",
        "* Exécuter la cellule suivante :"
      ]
    },
    {
      "cell_type": "code",
      "metadata": {
        "deletable": false,
        "editable": false,
        "id": "wCAsvVLvU2D6"
      },
      "source": [
        "from sklearn import linear_model\n",
        "clf = linear_model.LogisticRegression(C = 1.0)\n",
        "clf.fit(X_train, y_train)\n",
        "\n",
        "y_pred_rl = clf.predict(X_test) # Prédictions à l'aide de la régression logistique\n",
        "\n",
        "cm = pd.crosstab(y_test, y_pred_rl, rownames=['Classe réelle'], colnames=['Classe prédite'])\n",
        "cm # Matrice de confusion\n"
      ],
      "execution_count": null,
      "outputs": []
    },
    {
      "cell_type": "markdown",
      "metadata": {
        "deletable": false,
        "editable": false,
        "run_control": {
          "frozen": true
        },
        "id": "1K4Z0zWjU2D6"
      },
      "source": [
        ">Les résultats sont donc identiques, ce qui confirme bien les suppositions de départ. \n",
        ">Seulement, l'algorithme de Perceptron simple n'est plus utilisé en pratique.\n",
        ">\n",
        "> L'interêt de l'algorithme du Perceptron vient d'une technique démontrée en 1989 par George Cybenko qui consiste à empiler plusieurs perceptrons qui auront la même entrée sur une couche appelée **couche cachée** (*hidden layer* en anglais). \n",
        ">\n",
        "> La sortie de cette couche de perceptrons sera ensuite donnée en entrée à un perceptron qui fera la classification binaire. Ce perceptron forme ce que l'on appelle la **couche de sortie** (*output layer* en anglais).\n",
        ">\n",
        "> Un algorithme de ce type s'appelle **Perceptron Multicouche** (*Multilayer Perceptron* en anglais), souvent abrégé par l'acronyme **MLP**.\n",
        ">\n",
        "> Dans l'exemple suivant, nous illustrons un MLP avec une couche cachée de 3 perceptrons et une couche de sortie à 1 perceptron. Vous pouvez appuyer sur le bouton *play* pour lancer l'animation, et le bouton *stop* pour la relancer depuis le début.\n",
        "\n",
        "* Exécuter la cellule suivante pour afficher l'interaction"
      ]
    },
    {
      "cell_type": "code",
      "metadata": {
        "deletable": false,
        "editable": false,
        "id": "L2TonjgfU2D7",
        "colab": {
          "base_uri": "https://localhost:8080/",
          "height": 338
        },
        "outputId": "0f5e751d-62dc-4d02-c4f4-3934c64b5841"
      },
      "source": [
        "from interaction_dense import show_dense\n",
        "show_dense()"
      ],
      "execution_count": null,
      "outputs": [
        {
          "output_type": "error",
          "ename": "ModuleNotFoundError",
          "evalue": "ignored",
          "traceback": [
            "\u001b[0;31m---------------------------------------------------------------------------\u001b[0m",
            "\u001b[0;31mModuleNotFoundError\u001b[0m                       Traceback (most recent call last)",
            "\u001b[0;32m<ipython-input-1-b7775aa246d7>\u001b[0m in \u001b[0;36m<module>\u001b[0;34m()\u001b[0m\n\u001b[0;32m----> 1\u001b[0;31m \u001b[0;32mfrom\u001b[0m \u001b[0minteraction_dense\u001b[0m \u001b[0;32mimport\u001b[0m \u001b[0mshow_dense\u001b[0m\u001b[0;34m\u001b[0m\u001b[0;34m\u001b[0m\u001b[0m\n\u001b[0m\u001b[1;32m      2\u001b[0m \u001b[0mshow_dense\u001b[0m\u001b[0;34m(\u001b[0m\u001b[0;34m)\u001b[0m\u001b[0;34m\u001b[0m\u001b[0;34m\u001b[0m\u001b[0m\n",
            "\u001b[0;31mModuleNotFoundError\u001b[0m: No module named 'interaction_dense'",
            "",
            "\u001b[0;31m---------------------------------------------------------------------------\u001b[0;32m\nNOTE: If your import is failing due to a missing package, you can\nmanually install dependencies using either !pip or !apt.\n\nTo view examples of installing some common dependencies, click the\n\"Open Examples\" button below.\n\u001b[0;31m---------------------------------------------------------------------------\u001b[0m\n"
          ],
          "errorDetails": {
            "actions": [
              {
                "action": "open_url",
                "actionText": "Open Examples",
                "url": "/notebooks/snippets/importing_libraries.ipynb"
              }
            ]
          }
        }
      ]
    },
    {
      "cell_type": "markdown",
      "metadata": {
        "id": "0fTxeelNU2D7"
      },
      "source": [
        ">Nous nous apercevons rapidement que la base de données utilisée précedemment n'est pas linéairement séparable. Pour ce type de données, aucun algorithme de Perceptron simple n'arrivera à trouver une solution satisfaisante.\n",
        ">\n",
        ">Néanmoins, grâce au modèle MLP nous pouvons approximer une frontière de décision non-linéaire. Dans la figure interactive ci- dessous, les points bleus et rouges représentent les deux classes d'individus et la ligne de couleur verte correspond à l'approximation de la frontière de décision obtenue par descente de gradient avec un maximum de $1 000 000$ d'itérations.\n",
        "\n",
        "* **(n)** À l'aide du menu intéractif, déterminer le meilleur pas de gradient pour un MLP ayant 3 perceptrons dans sa couche cachée et utilisant la fonction $ReLU$ comme activation.\n",
        "\n",
        "\n",
        "* **(o)** Pourquoi le MLP ayant 3 perceptrons dans sa couche cachée et utilisant la fonction $tanh$ comme activation ne trouve pas de frontière de décision satisfaisante pour un pas de gradient inférieur ou égal à $0.01$?\n",
        "\n",
        "\n",
        "* **(p)** Pour quelle raison le MLP ayant 30 perceptrons dans sa couche cachée et utilisant la fonction $ReLU$ comme activation est plus performant que le MLP ayant 90 perceptrons dans sa couche cachée et utilisant la fonction $ReLU$ comme activation lorsque le pas de gradient est fixé à $1$?"
      ]
    },
    {
      "cell_type": "code",
      "metadata": {
        "deletable": false,
        "editable": false,
        "id": "_k8tCEAiU2D7",
        "colab": {
          "base_uri": "https://localhost:8080/",
          "height": 338
        },
        "outputId": "bc8948d7-9897-4a63-e8bb-f238748a076f"
      },
      "source": [
        "from interaction_dense import show_mlp\n",
        "show_mlp()"
      ],
      "execution_count": null,
      "outputs": [
        {
          "output_type": "error",
          "ename": "ModuleNotFoundError",
          "evalue": "ignored",
          "traceback": [
            "\u001b[0;31m---------------------------------------------------------------------------\u001b[0m",
            "\u001b[0;31mModuleNotFoundError\u001b[0m                       Traceback (most recent call last)",
            "\u001b[0;32m<ipython-input-2-ecbefa415c81>\u001b[0m in \u001b[0;36m<module>\u001b[0;34m()\u001b[0m\n\u001b[0;32m----> 1\u001b[0;31m \u001b[0;32mfrom\u001b[0m \u001b[0minteraction_dense\u001b[0m \u001b[0;32mimport\u001b[0m \u001b[0mshow_mlp\u001b[0m\u001b[0;34m\u001b[0m\u001b[0;34m\u001b[0m\u001b[0m\n\u001b[0m\u001b[1;32m      2\u001b[0m \u001b[0mshow_mlp\u001b[0m\u001b[0;34m(\u001b[0m\u001b[0;34m)\u001b[0m\u001b[0;34m\u001b[0m\u001b[0;34m\u001b[0m\u001b[0m\n",
            "\u001b[0;31mModuleNotFoundError\u001b[0m: No module named 'interaction_dense'",
            "",
            "\u001b[0;31m---------------------------------------------------------------------------\u001b[0;32m\nNOTE: If your import is failing due to a missing package, you can\nmanually install dependencies using either !pip or !apt.\n\nTo view examples of installing some common dependencies, click the\n\"Open Examples\" button below.\n\u001b[0;31m---------------------------------------------------------------------------\u001b[0m\n"
          ],
          "errorDetails": {
            "actions": [
              {
                "action": "open_url",
                "actionText": "Open Examples",
                "url": "/notebooks/snippets/importing_libraries.ipynb"
              }
            ]
          }
        }
      ]
    },
    {
      "cell_type": "markdown",
      "metadata": {
        "deletable": false,
        "editable": false,
        "run_control": {
          "frozen": true
        },
        "id": "nXvz7n9MU2D7"
      },
      "source": [
        ">Ainsi, si la base de données n'est pas linéairement séparable, **il est quand même possible de trouver un hyperplan séparateur non-linéaire en utilisant une approche multicouche.**\n"
      ]
    }
  ]
}